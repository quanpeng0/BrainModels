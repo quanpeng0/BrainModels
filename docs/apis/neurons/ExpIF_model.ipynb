{
 "cells": [
  {
   "cell_type": "markdown",
   "metadata": {},
   "source": [
    "# Exponential Integrate-and-fire model"
   ]
  },
  {
   "cell_type": "markdown",
   "metadata": {},
   "source": [
    "## Model Introduction"
   ]
  },
  {
   "cell_type": "markdown",
   "metadata": {},
   "source": [
    "Exponential Integrate-and-fire model(ExpIF model) is a neuron model derive from LIF model. As presented before, LIF model is a simple model include only a differential equation and a threshold mechanism, which hardly captures any minor property. ExpIF model therefore is proposed by Fourcaud-Trocmé(2003) to approximate conductance-based models such as Wang-Buzsáki model(Wang and Buzsáki, 1996).\n",
    "\n",
    "The differential equation of all integrate-and-fire models can be write as:\n",
    "\n",
    "$$C_m\\frac{dV}{dt} = -\\frac{V-V_{rest}}{R_m} + \\psi(V) + I(t)$$\n",
    "\n",
    "In which $V$ is membrane potential, $V_{rest}$ is resting potential, $R_m$ is membrane resistance, $C_m$ is membrane capacitance, and $I(t)$ is time-dependent input current, composed of external input current and postsynaptic current.\n",
    "\n",
    "When $V>=V_{th}$, the membrane potential will be reset to $V_{reset}$.\n",
    "\n",
    "In LIF model, $\\psi(V) = 0$ is a special condition. As for ExpIF model, we propose another threshold $V_T$:\n",
    "\n",
    "$$\\psi^{'}(V_T) = g_m = \\frac{1}{R_m}$$\n",
    "\n",
    "$V_T$ is the maximum membrane potential at which neuron can stay steady with a constant input but not fire. The corresponding threshold input $I(t) = \\frac{V_T-V_{rest}}{R_m} - \\psi(V_T)$ is the maximum value of constant external input, with which neuron can meet $V_T$ without fire.\n",
    "\n",
    "Another parameter $\\varDelta_T$ refers to a spike slope factor, measures the sharpness of spike initation. $\\varDelta_T$ is defined as:\n",
    "\n",
    "$$\\varDelta_T = \\frac{g_m}{\\psi^{''}(V_T)}$$\n",
    "\n",
    "Therefore ExpIF model is given by:\n",
    "\n",
    "$$\\psi(V) = g_m\\varDelta_Te^{\\frac{V-Vrest}{\\varDelta_T}}$$\n",
    "\n",
    "combine it with the general equation we get:\n",
    "\n",
    "$$C_m\\frac{dV}{dt} = -\\frac{V-V_{rest}}{R_m} + g_m\\varDelta_Te^{\\frac{V-Vrest}{\\varDelta_T}} + I(t)$$"
   ]
  },
  {
   "cell_type": "markdown",
   "metadata": {},
   "source": [
    "## Model Implementation"
   ]
  },
  {
   "cell_type": "code",
   "execution_count": 1,
   "metadata": {},
   "outputs": [],
   "source": [
    "import brainpy as bp"
   ]
  },
  {
   "cell_type": "code",
   "execution_count": 4,
   "metadata": {},
   "outputs": [],
   "source": [
    "## define Exponential Leaky Integrate-and-Fire model\n",
    "class ExpIF(bp.NeuGroup):\n",
    "    target_backend = 'general'\n",
    "\n",
    "    @staticmethod\n",
    "    def derivative(V, t, I_ext, V_rest, delta_T, V_T, R, tau):\n",
    "        dvdt = (- V + V_rest \\\n",
    "                + delta_T * bp.ops.exp((V - V_T) / delta_T) \n",
    "                + R * I_ext) \\\n",
    "               / tau\n",
    "        return dvdt\n",
    "\n",
    "    def __init__(self, size, V_rest=-65., V_reset=-68., \n",
    "                 V_th=-30., V_T=-59.9, delta_T=3.48, \n",
    "                 R=10., C=1., tau=10., t_refractory=1.7, \n",
    "                 **kwargs):\n",
    "        \n",
    "        # parameters\n",
    "        self.V_rest = V_rest\n",
    "        self.V_reset = V_reset\n",
    "        self.V_th = V_th\n",
    "        self.V_T = V_T\n",
    "        self.delta_T = delta_T\n",
    "        self.R = R\n",
    "        self.C = C\n",
    "        self.tau = tau\n",
    "        self.t_refractory = t_refractory\n",
    "\n",
    "        # variables\n",
    "        self.V = bp.ops.zeros(size)\n",
    "        self.input = bp.ops.zeros(size)\n",
    "        self.spike = bp.ops.zeros(size, dtype = bool)\n",
    "        self.refractory = bp.ops.zeros(size, dtype = bool)\n",
    "        self.spike_cnt = bp.ops.zeros(size)\n",
    "        self.t_last_spike = bp.ops.ones(size) * -1e7\n",
    "\n",
    "        self.integral = bp.odeint(self.derivative)\n",
    "        super(ExpIF, self).__init__(size = size, **kwargs)\n",
    "\n",
    "    def update(self, _t):\n",
    "        refractory = (_t - self.t_last_spike) <= self.t_refractory\n",
    "        V = self.integral(self.V, _t, self.input, self.V_rest, \n",
    "                          self.delta_T, self.V_T, self.R, self.tau)\n",
    "        V = bp.ops.where(refractory, self.V, V)\n",
    "        spike = self.V_th <= V\n",
    "        self.t_last_spike = bp.ops.where(spike, _t, \n",
    "                                             self.t_last_spike)\n",
    "        self.V = bp.ops.where(spike, self.V_reset, V)\n",
    "        self.refractory = refractory\n",
    "        self.input[:] = 0.\n",
    "        self.spike = spike"
   ]
  },
  {
   "cell_type": "code",
   "execution_count": 5,
   "metadata": {},
   "outputs": [
    {
     "data": {
      "image/png": "[encoded data removed]",
      "text/plain": [
       "<Figure size 432x288 with 1 Axes>"
      ]
     },
     "metadata": {
      "needs_background": "light"
     },
     "output_type": "display_data"
    }
   ],
   "source": [
    "import numpy as np\n",
    "# build neuron group\n",
    "neu = ExpIF(10, monitors=['V'])\n",
    "neu.V_rest = -65.\n",
    "neu.tau = 10.\n",
    "\n",
    "# create input\n",
    "duration = 350.\n",
    "current, pos_dur = bp.inputs.constant_current([(0.30, duration)])\n",
    "\n",
    "# simulate\n",
    "neu.run(\n",
    "    duration = pos_dur, \n",
    "    inputs = [\"input\", current], \n",
    "    report = False)  \n",
    "#simulate for 100 ms. Give external input = current\n",
    "\n",
    "# paint\n",
    "bp.visualize.line_plot(neu.mon.ts, neu.mon.V, \n",
    "                       xlabel = \"t\", ylabel = \"V\", \n",
    "                       show=True)\n"
   ]
  },
  {
   "cell_type": "markdown",
   "metadata": {},
   "source": [
    "## Model Analysis"
   ]
  },
  {
   "cell_type": "markdown",
   "metadata": {},
   "source": [
    "### Fitting WB model"
   ]
  },
  {
   "cell_type": "code",
   "execution_count": 10,
   "metadata": {},
   "outputs": [
    {
     "data": {
      "image/png": "[encoded data removed]",
      "text/plain": [
       "<Figure size 432x288 with 1 Axes>"
      ]
     },
     "metadata": {
      "needs_background": "light"
     },
     "output_type": "display_data"
    },
    {
     "data": {
      "image/png": "[encoded data removed]",
      "text/plain": [
       "<Figure size 432x288 with 1 Axes>"
      ]
     },
     "metadata": {
      "needs_background": "light"
     },
     "output_type": "display_data"
    }
   ],
   "source": [
    "duration = 1000.\n",
    "ExpIF_neuron = ExpIF(1, monitors = ['V'])\n",
    "neu.V_rest = -65.\n",
    "neu.tau = 10.\n",
    "\n",
    "# input current = 0.16, under the threshold\n",
    "current, pos_dur = bp.inputs.constant_current(\n",
    "    [(0.16, duration)])\n",
    "neu.run(\n",
    "    duration = pos_dur, \n",
    "    inputs = [\"input\", current], \n",
    "    report = False)\n",
    "\n",
    "bp.visualize.line_plot(neu.mon.ts, neu.mon.V, \n",
    "                       xlabel = \"Time (ms)\",\n",
    "                       ylabel = \"Membrane potential(mV)\", \n",
    "                       xlim = [-0.1, neu.mon.ts[-1] + 0.1],\n",
    "                       show=True)\n",
    "\n",
    "#input current = 0.17, above the threshold\n",
    "ExpIF_neuron = ExpIF(1, monitors = ['V'])\n",
    "neu.V_rest = -65.\n",
    "neu.tau = 10.\n",
    "\n",
    "# input current = 0.16, under the threshold\n",
    "current, pos_dur = bp.inputs.constant_current(\n",
    "    [(0.17, duration)])\n",
    "neu.run(\n",
    "    duration = pos_dur, \n",
    "    inputs = [\"input\", current], \n",
    "    report = False)\n",
    "\n",
    "bp.visualize.line_plot(neu.mon.ts, neu.mon.V, \n",
    "                       xlabel = \"Time (ms)\",\n",
    "                       ylabel = \"Membrane potential(mV)\", \n",
    "                       xlim = [-0.1, neu.mon.ts[-1] + 0.1],\n",
    "                       show=True)"
   ]
  },
  {
   "cell_type": "markdown",
   "metadata": {},
   "source": [
    "Fourcaud-Trocmé (2003) proposed that ExpIF model can easily reproduce the behavior of conductance-based model. For example, with proper parameters, ExpIF model can match the f-I curve of WB model. Here we paint two figures to show how well can integrate-and-fire model fit WB model:"
   ]
  },
  {
   "cell_type": "markdown",
   "metadata": {},
   "source": [
    "### Fitting WB model curve"
   ]
  },
  {
   "cell_type": "code",
   "execution_count": 11,
   "metadata": {},
   "outputs": [
    {
     "name": "stdout",
     "output_type": "stream",
     "text": [
      "epoch 100/100, input amplitude = 4.99999999999999, firing rate = 0.000\r"
     ]
    },
    {
     "data": {
      "image/png": "[encoded data removed]",
      "text/plain": [
       "<Figure size 504x360 with 1 Axes>"
      ]
     },
     "metadata": {
      "needs_background": "light"
     },
     "output_type": "display_data"
    }
   ],
   "source": [
    "import matplotlib.pyplot as plt\n",
    "# set params\n",
    "I_ext_list = []\n",
    "firing_rate_list = []\n",
    "\n",
    "stim_start = 0\n",
    "stim_end = 100\n",
    "stim_step = 1\n",
    "epoch = (stim_end-stim_start) / stim_step\n",
    "\n",
    "step = 0\n",
    "I_ext = 0\n",
    "\n",
    "for i in range(stim_start, stim_end):\n",
    "    # build network\n",
    "    neu = ExpIF(1, monitors = ['V', 'spike_cnt'])  #create a neuron group with 10 neurons.\n",
    "    neu.V_rest = -65.\n",
    "    neu.tau = 10.\n",
    "\n",
    "    #create input\n",
    "    I_ext += 0.05  ##actual stim is range(0, 5, 0.05)\n",
    "    current, pos_dur = bp.inputs.constant_current(\n",
    "        [(I_ext, duration)])\n",
    "\n",
    "    #simulate\n",
    "    neu.run(duration = pos_dur, inputs = [\"input\", current])\n",
    "\n",
    "    firing_rate = neu.mon.spike_cnt[-1, 0] * 1000/duration\n",
    "    I_ext_list.append(I_ext)\n",
    "    firing_rate_list.append(firing_rate)\n",
    "\n",
    "    step += 1\n",
    "    print(f\"epoch {step}/{int(epoch)}, input amplitude = {I_ext}, firing rate = {firing_rate}\", end = '\\r', flush = True)\n",
    "\n",
    "#paint\n",
    "fig, gs = bp.visualize.get_figure(1, 1, 5, 7)\n",
    "plt.plot(I_ext_list, firing_rate_list)\n",
    "plt.xlabel('Input Strength')\n",
    "plt.ylabel('Firing rate')\n",
    "plt.xlim(I_ext_list[0]-0.1, I_ext_list[-1]+0.1)\n",
    "plt.ylim(-0.1, 200)\n",
    "plt.show()"
   ]
  },
  {
   "cell_type": "markdown",
   "metadata": {},
   "source": [
    "<img src=\"../../images/ExpIF-2.png\">\n",
    "\n",
    "<center>f-I curve of integrate models and WB model | [1]</center>\n",
    "\n",
    "Clearly, our ExpIF model match with WB model's f-I curve.\n",
    "\n",
    "We should mention that WB model is a type I neuron, which means its firing rate at threshold is 0. Type II neurons are at odds with WB model, whose firing rate is not 0 at threshold."
   ]
  },
  {
   "cell_type": "markdown",
   "metadata": {},
   "source": [
    "## References"
   ]
  },
  {
   "cell_type": "markdown",
   "metadata": {},
   "source": [
    "[1] Fourcaud-Trocmé, Nicolas, et al. \"How spike generation mechanisms determine the neuronal response to fluctuating inputs.\" Journal of Neuroscience 23.37 (2003): 11628-11640.\n",
    "\n",
    "[2] Wang, Xiao Jing . \"Gamma Oscillation by Synaptic Inhibition in a Hippocampal Interneuronal Network Model.\" Journal of Neuroence 16.20(1996):6402-6413."
   ]
  }
 ],
 "metadata": {
  "kernelspec": {
   "display_name": "Python 3 (ipykernel)",
   "language": "python",
   "name": "python3"
  },
  "language_info": {
   "codemirror_mode": {
    "name": "ipython",
    "version": 3
   },
   "file_extension": ".py",
   "mimetype": "text/x-python",
   "name": "python",
   "nbconvert_exporter": "python",
   "pygments_lexer": "ipython3",
   "version": "3.9.5"
  },
  "latex_envs": {
   "LaTeX_envs_menu_present": true,
   "autoclose": false,
   "autocomplete": true,
   "bibliofile": "biblio.bib",
   "cite_by": "apalike",
   "current_citInitial": 1,
   "eqLabelWithNumbers": true,
   "eqNumInitial": 1,
   "hotkeys": {
    "equation": "Ctrl-E",
    "itemize": "Ctrl-I"
   },
   "labels_anchors": false,
   "latex_user_defs": false,
   "report_style_numbering": false,
   "user_envs_cfg": false
  },
  "toc": {
   "base_numbering": 1,
   "nav_menu": {},
   "number_sections": true,
   "sideBar": true,
   "skip_h1_title": false,
   "title_cell": "Table of Contents",
   "title_sidebar": "Contents",
   "toc_cell": false,
   "toc_position": {},
   "toc_section_display": true,
   "toc_window_display": false
  }
 },
 "nbformat": 4,
 "nbformat_minor": 4
}
